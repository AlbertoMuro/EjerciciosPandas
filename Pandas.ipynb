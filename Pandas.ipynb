{
 "cells": [
  {
   "cell_type": "markdown",
   "metadata": {},
   "source": [
    "**Creación de DataFrame**"
   ]
  },
  {
   "cell_type": "code",
   "execution_count": 3,
   "metadata": {},
   "outputs": [
    {
     "name": "stdout",
     "output_type": "stream",
     "text": [
      "    Nombre  Edad\n",
      "0    Alice    25\n",
      "1      Bob    30\n",
      "2  Charlie    22\n",
      "0    25\n",
      "1    30\n",
      "2    22\n",
      "Name: Edad, dtype: int64\n"
     ]
    }
   ],
   "source": [
    "import pandas as pd\n",
    "\n",
    "# Crear un DataFrame a partir de una lista de diccionarios\n",
    "data = [{'Nombre': 'Alice', 'Edad': 25},\n",
    "        {'Nombre': 'Bob', 'Edad': 30},\n",
    "        {'Nombre': 'Charlie', 'Edad': 22}]\n",
    "df = pd.DataFrame(data)\n",
    "\n",
    "# Crear una Serie\n",
    "serie_edades = pd.Series([25, 30, 22], name='Edad')\n",
    "\n",
    "print(df)\n",
    "print(serie_edades)"
   ]
  },
  {
   "cell_type": "markdown",
   "metadata": {},
   "source": [
    "**Lectura y escritura de datos**"
   ]
  },
  {
   "cell_type": "code",
   "execution_count": 4,
   "metadata": {},
   "outputs": [
    {
     "data": {
      "text/html": [
       "<div>\n",
       "<style scoped>\n",
       "    .dataframe tbody tr th:only-of-type {\n",
       "        vertical-align: middle;\n",
       "    }\n",
       "\n",
       "    .dataframe tbody tr th {\n",
       "        vertical-align: top;\n",
       "    }\n",
       "\n",
       "    .dataframe thead th {\n",
       "        text-align: right;\n",
       "    }\n",
       "</style>\n",
       "<table border=\"1\" class=\"dataframe\">\n",
       "  <thead>\n",
       "    <tr style=\"text-align: right;\">\n",
       "      <th></th>\n",
       "      <th>Unnamed: 0</th>\n",
       "      <th>Fecha</th>\n",
       "      <th>Día</th>\n",
       "      <th>Producto</th>\n",
       "      <th>Medida</th>\n",
       "      <th>Lugar</th>\n",
       "      <th>Cantidad</th>\n",
       "      <th>Precio_unitario</th>\n",
       "      <th>venta_total</th>\n",
       "      <th>litros_vendidos</th>\n",
       "    </tr>\n",
       "  </thead>\n",
       "  <tbody>\n",
       "    <tr>\n",
       "      <th>0</th>\n",
       "      <td>NaN</td>\n",
       "      <td>2022-06-26</td>\n",
       "      <td>Domingo</td>\n",
       "      <td>Agua de naranja</td>\n",
       "      <td>0.5</td>\n",
       "      <td>Zepeda</td>\n",
       "      <td>18</td>\n",
       "      <td>20</td>\n",
       "      <td>360</td>\n",
       "      <td>9.0</td>\n",
       "    </tr>\n",
       "    <tr>\n",
       "      <th>1</th>\n",
       "      <td>NaN</td>\n",
       "      <td>2022-06-26</td>\n",
       "      <td>Domingo</td>\n",
       "      <td>Agua de naranja</td>\n",
       "      <td>0.5</td>\n",
       "      <td>General</td>\n",
       "      <td>2</td>\n",
       "      <td>20</td>\n",
       "      <td>40</td>\n",
       "      <td>1.0</td>\n",
       "    </tr>\n",
       "    <tr>\n",
       "      <th>2</th>\n",
       "      <td>NaN</td>\n",
       "      <td>2022-06-26</td>\n",
       "      <td>Domingo</td>\n",
       "      <td>Agua de jamaica</td>\n",
       "      <td>0.5</td>\n",
       "      <td>Zepeda</td>\n",
       "      <td>19</td>\n",
       "      <td>20</td>\n",
       "      <td>380</td>\n",
       "      <td>9.5</td>\n",
       "    </tr>\n",
       "    <tr>\n",
       "      <th>3</th>\n",
       "      <td>NaN</td>\n",
       "      <td>2022-06-26</td>\n",
       "      <td>Domingo</td>\n",
       "      <td>Agua de jamaica</td>\n",
       "      <td>1.0</td>\n",
       "      <td>Zepeda</td>\n",
       "      <td>1</td>\n",
       "      <td>40</td>\n",
       "      <td>40</td>\n",
       "      <td>1.0</td>\n",
       "    </tr>\n",
       "    <tr>\n",
       "      <th>4</th>\n",
       "      <td>NaN</td>\n",
       "      <td>2022-06-26</td>\n",
       "      <td>Domingo</td>\n",
       "      <td>Chocomilk</td>\n",
       "      <td>0.5</td>\n",
       "      <td>Zepeda</td>\n",
       "      <td>2</td>\n",
       "      <td>30</td>\n",
       "      <td>60</td>\n",
       "      <td>1.0</td>\n",
       "    </tr>\n",
       "    <tr>\n",
       "      <th>...</th>\n",
       "      <td>...</td>\n",
       "      <td>...</td>\n",
       "      <td>...</td>\n",
       "      <td>...</td>\n",
       "      <td>...</td>\n",
       "      <td>...</td>\n",
       "      <td>...</td>\n",
       "      <td>...</td>\n",
       "      <td>...</td>\n",
       "      <td>...</td>\n",
       "    </tr>\n",
       "    <tr>\n",
       "      <th>268</th>\n",
       "      <td>NaN</td>\n",
       "      <td>2022-07-31</td>\n",
       "      <td>Domingo</td>\n",
       "      <td>Chocomilk</td>\n",
       "      <td>0.5</td>\n",
       "      <td>Zepeda</td>\n",
       "      <td>8</td>\n",
       "      <td>30</td>\n",
       "      <td>240</td>\n",
       "      <td>4.0</td>\n",
       "    </tr>\n",
       "    <tr>\n",
       "      <th>269</th>\n",
       "      <td>NaN</td>\n",
       "      <td>2022-07-31</td>\n",
       "      <td>Domingo</td>\n",
       "      <td>Chocomilk</td>\n",
       "      <td>0.5</td>\n",
       "      <td>General</td>\n",
       "      <td>1</td>\n",
       "      <td>30</td>\n",
       "      <td>30</td>\n",
       "      <td>0.5</td>\n",
       "    </tr>\n",
       "    <tr>\n",
       "      <th>270</th>\n",
       "      <td>NaN</td>\n",
       "      <td>2022-07-31</td>\n",
       "      <td>Domingo</td>\n",
       "      <td>Licuado de fresa</td>\n",
       "      <td>0.5</td>\n",
       "      <td>General</td>\n",
       "      <td>2</td>\n",
       "      <td>30</td>\n",
       "      <td>60</td>\n",
       "      <td>1.0</td>\n",
       "    </tr>\n",
       "    <tr>\n",
       "      <th>271</th>\n",
       "      <td>NaN</td>\n",
       "      <td>2022-07-31</td>\n",
       "      <td>Domingo</td>\n",
       "      <td>Jugo de naranja</td>\n",
       "      <td>0.5</td>\n",
       "      <td>Zepeda</td>\n",
       "      <td>5</td>\n",
       "      <td>30</td>\n",
       "      <td>150</td>\n",
       "      <td>2.5</td>\n",
       "    </tr>\n",
       "    <tr>\n",
       "      <th>272</th>\n",
       "      <td>NaN</td>\n",
       "      <td>2022-07-31</td>\n",
       "      <td>Domingo</td>\n",
       "      <td>Jugo de naranja</td>\n",
       "      <td>0.5</td>\n",
       "      <td>General</td>\n",
       "      <td>2</td>\n",
       "      <td>30</td>\n",
       "      <td>60</td>\n",
       "      <td>1.0</td>\n",
       "    </tr>\n",
       "  </tbody>\n",
       "</table>\n",
       "<p>273 rows × 10 columns</p>\n",
       "</div>"
      ],
      "text/plain": [
       "     Unnamed: 0      Fecha      Día          Producto  Medida    Lugar  \\\n",
       "0           NaN 2022-06-26  Domingo   Agua de naranja     0.5   Zepeda   \n",
       "1           NaN 2022-06-26  Domingo   Agua de naranja     0.5  General   \n",
       "2           NaN 2022-06-26  Domingo   Agua de jamaica     0.5   Zepeda   \n",
       "3           NaN 2022-06-26  Domingo   Agua de jamaica     1.0   Zepeda   \n",
       "4           NaN 2022-06-26  Domingo         Chocomilk     0.5   Zepeda   \n",
       "..          ...        ...      ...               ...     ...      ...   \n",
       "268         NaN 2022-07-31  Domingo         Chocomilk     0.5   Zepeda   \n",
       "269         NaN 2022-07-31  Domingo         Chocomilk     0.5  General   \n",
       "270         NaN 2022-07-31  Domingo  Licuado de fresa     0.5  General   \n",
       "271         NaN 2022-07-31  Domingo   Jugo de naranja     0.5   Zepeda   \n",
       "272         NaN 2022-07-31  Domingo   Jugo de naranja     0.5  General   \n",
       "\n",
       "     Cantidad  Precio_unitario  venta_total  litros_vendidos  \n",
       "0          18               20          360              9.0  \n",
       "1           2               20           40              1.0  \n",
       "2          19               20          380              9.5  \n",
       "3           1               40           40              1.0  \n",
       "4           2               30           60              1.0  \n",
       "..        ...              ...          ...              ...  \n",
       "268         8               30          240              4.0  \n",
       "269         1               30           30              0.5  \n",
       "270         2               30           60              1.0  \n",
       "271         5               30          150              2.5  \n",
       "272         2               30           60              1.0  \n",
       "\n",
       "[273 rows x 10 columns]"
      ]
     },
     "execution_count": 4,
     "metadata": {},
     "output_type": "execute_result"
    }
   ],
   "source": [
    "# Leer datos desde un archivo CSV\n",
    "#df = pd.read_csv('datos.csv')\n",
    "\n",
    "# Escribir datos en un archivo CSV\n",
    "#df.to_csv('nuevos_datos.csv', index=False)\n",
    "\n",
    "# Leer datos desde una hoja de Excel\n",
    "df_excel = pd.read_excel('Libro1.xlsx', sheet_name='Hoja1')\n",
    "df_excel\n"
   ]
  },
  {
   "cell_type": "markdown",
   "metadata": {},
   "source": [
    "**Selección de filas y columnas**"
   ]
  },
  {
   "cell_type": "code",
   "execution_count": null,
   "metadata": {},
   "outputs": [],
   "source": [
    "columna = df_excel['venta_total']\n",
    "columna\n",
    "\n",
    "#Selección de múltiples columnas\n",
    "df=df_excel[[\"Fecha\",\"Día\",\"Producto\",\"Medida\",\"Lugar\",\"Cantidad\",\"Precio_unitario\",\"venta_total\",\"litros_vendidos\"]]\n",
    "df"
   ]
  },
  {
   "cell_type": "code",
   "execution_count": 18,
   "metadata": {},
   "outputs": [
    {
     "data": {
      "text/plain": [
       "Fecha              2022-06-26 00:00:00\n",
       "Día                            Domingo\n",
       "Producto               Agua de naranja\n",
       "Medida                             0.5\n",
       "Lugar                           Zepeda\n",
       "Cantidad                            18\n",
       "Precio_unitario                     20\n",
       "venta_total                        360\n",
       "litros_vendidos                    9.0\n",
       "Name: 0, dtype: object"
      ]
     },
     "execution_count": 18,
     "metadata": {},
     "output_type": "execute_result"
    }
   ],
   "source": [
    "#Buscar por fila\n",
    "fila = df.loc[0]\n",
    "fila"
   ]
  },
  {
   "cell_type": "code",
   "execution_count": 19,
   "metadata": {},
   "outputs": [
    {
     "data": {
      "text/plain": [
       "'Domingo'"
      ]
     },
     "execution_count": 19,
     "metadata": {},
     "output_type": "execute_result"
    }
   ],
   "source": [
    "#Seleccionar un valor específico:\n",
    "valor = df.at[0, 'Día']\n",
    "valor"
   ]
  },
  {
   "cell_type": "markdown",
   "metadata": {},
   "source": [
    "**Filtrar por filas**"
   ]
  },
  {
   "cell_type": "code",
   "execution_count": null,
   "metadata": {},
   "outputs": [],
   "source": [
    "#Filtrar filas basadas en una condición:\n",
    "filtro = df['venta_total'] > 400\n",
    "resultado_filtrado = df[filtro]\n",
    "resultado_filtrado"
   ]
  },
  {
   "cell_type": "code",
   "execution_count": null,
   "metadata": {},
   "outputs": [],
   "source": [
    "#Filtrar filas con múltiples condiciones:\n",
    "filtro = (df['venta_total'] > 200) & (df['Día'] == 'Miercoles')\n",
    "resultado_filtrado = df[filtro]\n",
    "resultado_filtrado"
   ]
  },
  {
   "cell_type": "code",
   "execution_count": null,
   "metadata": {},
   "outputs": [],
   "source": [
    "#Filtrar filas que cumplan con una condición en una columna específica:\n",
    "resultado_filtrado = df[df['Día'] == 'Domingo']\n",
    "resultado_filtrado"
   ]
  }
 ],
 "metadata": {
  "kernelspec": {
   "display_name": "Python 3",
   "language": "python",
   "name": "python3"
  },
  "language_info": {
   "codemirror_mode": {
    "name": "ipython",
    "version": 3
   },
   "file_extension": ".py",
   "mimetype": "text/x-python",
   "name": "python",
   "nbconvert_exporter": "python",
   "pygments_lexer": "ipython3",
   "version": "3.11.4"
  },
  "orig_nbformat": 4
 },
 "nbformat": 4,
 "nbformat_minor": 2
}
